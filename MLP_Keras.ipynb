{
  "nbformat": 4,
  "nbformat_minor": 0,
  "metadata": {
    "colab": {
      "name": "MLP_Keras.ipynb",
      "version": "0.3.2",
      "provenance": [],
      "collapsed_sections": [],
      "include_colab_link": true
    },
    "kernelspec": {
      "name": "python3",
      "display_name": "Python 3"
    }
  },
  "cells": [
    {
      "cell_type": "markdown",
      "metadata": {
        "id": "view-in-github",
        "colab_type": "text"
      },
      "source": [
        "<a href=\"https://colab.research.google.com/github/AlphaAl/Med_test/blob/master/MLP_Keras.ipynb\" target=\"_parent\"><img src=\"https://colab.research.google.com/assets/colab-badge.svg\" alt=\"Open In Colab\"/></a>"
      ]
    },
    {
      "cell_type": "code",
      "metadata": {
        "id": "1JcbmpkRpbLn",
        "colab_type": "code",
        "colab": {}
      },
      "source": [
        "import keras\n",
        "from keras.models import Sequential\n",
        "from keras.layers import Dense, Dropout, Activation\n",
        "from keras.optimizers import SGD\n",
        "\n",
        "# Generate dummy data\n",
        "import numpy as np\n",
        "x_train = np.random.random((1000, 20))\n",
        "y_train = keras.utils.to_categorical(np.random.randint(10, size=(1000, 1)), num_classes=10)\n",
        "x_test = np.random.random((100, 20))\n",
        "y_test = keras.utils.to_categorical(np.random.randint(10, size=(100, 1)), num_classes=10)\n",
        "\n",
        "model = Sequential()\n",
        "# Dense(64) is a fully-connected layer with 64 hidden units.\n",
        "# in the first layer, you must specify the expected input data shape:\n",
        "# here, 20-dimensional vectors.\n",
        "model.add(Dense(64, activation='relu', input_dim=20))\n",
        "model.add(Dropout(0.5))\n",
        "model.add(Dense(64, activation='relu'))\n",
        "model.add(Dropout(0.5))\n",
        "model.add(Dense(10, activation='softmax'))\n",
        "\n",
        "sgd = SGD(lr=0.01, decay=1e-6, momentum=0.9, nesterov=True)\n",
        "model.compile(loss='categorical_crossentropy',\n",
        "              optimizer=sgd,\n",
        "              metrics=['accuracy'])\n",
        "\n",
        "model.fit(x_train, y_train,\n",
        "          epochs=20,\n",
        "          batch_size=128)\n",
        "score = model.evaluate(x_test, y_test, batch_size=128)"
      ],
      "execution_count": 0,
      "outputs": []
    },
    {
      "cell_type": "code",
      "metadata": {
        "id": "B9KKo7FI2J2T",
        "colab_type": "code",
        "colab": {
          "base_uri": "https://localhost:8080/",
          "height": 136
        },
        "outputId": "08435f5e-3f22-49e8-cd4c-ee3d53863942"
      },
      "source": [
        "import keras\n",
        "from keras.models import Sequential\n",
        "from keras.layers import Dense,Dropout,Activation\n",
        "import numpy as np\n",
        "from keras.optimizers import SGD"
      ],
      "execution_count": 1,
      "outputs": [
        {
          "output_type": "stream",
          "text": [
            "Using TensorFlow backend.\n"
          ],
          "name": "stderr"
        }
      ]
    },
    {
      "cell_type": "code",
      "metadata": {
        "id": "Eh4Pm_SI2tp9",
        "colab_type": "code",
        "colab": {}
      },
      "source": [
        "x_train = np.random.random((1000,20))\n",
        "y_train = keras.utils.to_categorical(np.random.randint(10,size=(1000,1)),num_classes=10)\n",
        "x_test = np.random.random((100,20))\n",
        "y_test = keras.utils.to_categorical(np.random.randint(10,size=(100,1)),num_classes=10)"
      ],
      "execution_count": 0,
      "outputs": []
    },
    {
      "cell_type": "code",
      "metadata": {
        "id": "84tzzKmQ3dUH",
        "colab_type": "code",
        "colab": {
          "base_uri": "https://localhost:8080/",
          "height": 519
        },
        "outputId": "7ffe2dd9-35fd-4e81-fe59-f3937fe05c54"
      },
      "source": [
        "###creating layers\n",
        "model = Sequential()\n",
        "model.add(Dense(64,activation='relu',input_dim = 20))\n",
        "model.add(Dropout(0.5))\n",
        "model.add(Dense(32,activation='relu'))\n",
        "model.add(Dropout(0.5))\n",
        "model.add(Dense(16,activation='relu'))\n",
        "model.add(Dropout(0.5))\n",
        "model.add(Dense(32,activation='relu'))\n",
        "model.add(Dense(64,activation='relu'))\n",
        "model.add(Dense(20,activation='softmax'))\n",
        "model.summary()"
      ],
      "execution_count": 23,
      "outputs": [
        {
          "output_type": "stream",
          "text": [
            "_________________________________________________________________\n",
            "Layer (type)                 Output Shape              Param #   \n",
            "=================================================================\n",
            "dense_11 (Dense)             (None, 64)                1344      \n",
            "_________________________________________________________________\n",
            "dropout_7 (Dropout)          (None, 64)                0         \n",
            "_________________________________________________________________\n",
            "dense_12 (Dense)             (None, 32)                2080      \n",
            "_________________________________________________________________\n",
            "dropout_8 (Dropout)          (None, 32)                0         \n",
            "_________________________________________________________________\n",
            "dense_13 (Dense)             (None, 16)                528       \n",
            "_________________________________________________________________\n",
            "dropout_9 (Dropout)          (None, 16)                0         \n",
            "_________________________________________________________________\n",
            "dense_14 (Dense)             (None, 32)                544       \n",
            "_________________________________________________________________\n",
            "dense_15 (Dense)             (None, 64)                2112      \n",
            "_________________________________________________________________\n",
            "dense_16 (Dense)             (None, 20)                1300      \n",
            "=================================================================\n",
            "Total params: 7,908\n",
            "Trainable params: 7,908\n",
            "Non-trainable params: 0\n",
            "_________________________________________________________________\n"
          ],
          "name": "stdout"
        }
      ]
    },
    {
      "cell_type": "code",
      "metadata": {
        "id": "NX4NIBLtRwbT",
        "colab_type": "code",
        "colab": {}
      },
      "source": [
        "import os\n",
        "#os.mkdir('train')\n",
        "callback_path = 'train/checkpt-{epoch:04d}.ckpt'\n",
        "callback_dir = os.path.dirname(callback_path)\n",
        "callto = keras.callbacks.ModelCheckpoint(callback_path)"
      ],
      "execution_count": 0,
      "outputs": []
    },
    {
      "cell_type": "code",
      "metadata": {
        "id": "fUjS-KbqHnWV",
        "colab_type": "code",
        "colab": {}
      },
      "source": [
        "############trying out the AutoEncoder but not working for some reason##################\n",
        "\n",
        "model2= Sequential()\n",
        "model2.add(Dense(20,activation='linear',input_dim=20))\n",
        "model2.add(Dense(20,activation='linear'))\n",
        "model2.compile(loss='mean_squared_error',optimizer='adam',metrics=['acc'])\n",
        "model2.save_weights(callback_path.format(epoch=0))\n"
      ],
      "execution_count": 0,
      "outputs": []
    },
    {
      "cell_type": "code",
      "metadata": {
        "id": "4z6DXMZAIQLQ",
        "colab_type": "code",
        "colab": {
          "base_uri": "https://localhost:8080/",
          "height": 759
        },
        "outputId": "9b939e5c-269a-418b-b8e4-4bcc88ba3491"
      },
      "source": [
        "model2.fit(x_train,x_train,epochs=20,batch_size=100,callbacks=[callto])\n",
        "score2 = model.evaluate(x_test,x_test,batch_size=128)"
      ],
      "execution_count": 61,
      "outputs": [
        {
          "output_type": "stream",
          "text": [
            "Epoch 1/20\n",
            "1000/1000 [==============================] - 0s 479us/step - loss: 0.4274 - acc: 0.0670\n",
            "Epoch 2/20\n",
            "1000/1000 [==============================] - 0s 16us/step - loss: 0.3030 - acc: 0.0680\n",
            "Epoch 3/20\n",
            "1000/1000 [==============================] - 0s 16us/step - loss: 0.2268 - acc: 0.0700\n",
            "Epoch 4/20\n",
            "1000/1000 [==============================] - 0s 16us/step - loss: 0.1805 - acc: 0.0640\n",
            "Epoch 5/20\n",
            "1000/1000 [==============================] - 0s 17us/step - loss: 0.1527 - acc: 0.0700\n",
            "Epoch 6/20\n",
            "1000/1000 [==============================] - 0s 16us/step - loss: 0.1359 - acc: 0.0680\n",
            "Epoch 7/20\n",
            "1000/1000 [==============================] - 0s 18us/step - loss: 0.1256 - acc: 0.0680\n",
            "Epoch 8/20\n",
            "1000/1000 [==============================] - 0s 16us/step - loss: 0.1183 - acc: 0.0710\n",
            "Epoch 9/20\n",
            "1000/1000 [==============================] - 0s 16us/step - loss: 0.1122 - acc: 0.0720\n",
            "Epoch 10/20\n",
            "1000/1000 [==============================] - 0s 17us/step - loss: 0.1066 - acc: 0.0770\n",
            "Epoch 11/20\n",
            "1000/1000 [==============================] - 0s 16us/step - loss: 0.1014 - acc: 0.0820\n",
            "Epoch 12/20\n",
            "1000/1000 [==============================] - 0s 14us/step - loss: 0.0966 - acc: 0.0900\n",
            "Epoch 13/20\n",
            "1000/1000 [==============================] - 0s 14us/step - loss: 0.0921 - acc: 0.0980\n",
            "Epoch 14/20\n",
            "1000/1000 [==============================] - 0s 15us/step - loss: 0.0879 - acc: 0.1080\n",
            "Epoch 15/20\n",
            "1000/1000 [==============================] - 0s 18us/step - loss: 0.0839 - acc: 0.1110\n",
            "Epoch 16/20\n",
            "1000/1000 [==============================] - 0s 18us/step - loss: 0.0802 - acc: 0.1160\n",
            "Epoch 17/20\n",
            "1000/1000 [==============================] - 0s 16us/step - loss: 0.0767 - acc: 0.1250\n",
            "Epoch 18/20\n",
            "1000/1000 [==============================] - 0s 14us/step - loss: 0.0734 - acc: 0.1320\n",
            "Epoch 19/20\n",
            "1000/1000 [==============================] - 0s 17us/step - loss: 0.0703 - acc: 0.1380\n",
            "Epoch 20/20\n",
            "1000/1000 [==============================] - 0s 17us/step - loss: 0.0674 - acc: 0.1530\n",
            "100/100 [==============================] - 0s 15us/step\n"
          ],
          "name": "stdout"
        }
      ]
    },
    {
      "cell_type": "code",
      "metadata": {
        "id": "QiSRiPyYT6nb",
        "colab_type": "code",
        "colab": {
          "base_uri": "https://localhost:8080/",
          "height": 212
        },
        "outputId": "093412eb-442e-4036-b110-1d620e4eb7fe"
      },
      "source": [
        "!ls train/"
      ],
      "execution_count": 62,
      "outputs": [
        {
          "output_type": "stream",
          "text": [
            "checkpt-0000.ckpt  checkpt-0006.ckpt  checkpt-0012.ckpt  checkpt-0018.ckpt\n",
            "checkpt-0001.ckpt  checkpt-0007.ckpt  checkpt-0013.ckpt  checkpt-0019.ckpt\n",
            "checkpt-0002.ckpt  checkpt-0008.ckpt  checkpt-0014.ckpt  checkpt-0020.ckpt\n",
            "checkpt-0003.ckpt  checkpt-0009.ckpt  checkpt-0015.ckpt  checkpt.ckpt\n",
            "checkpt-0004.ckpt  checkpt-0010.ckpt  checkpt-0016.ckpt\n",
            "checkpt-0005.ckpt  checkpt-0011.ckpt  checkpt-0017.ckpt\n"
          ],
          "name": "stdout"
        }
      ]
    },
    {
      "cell_type": "code",
      "metadata": {
        "id": "09x3zOIJ4F-W",
        "colab_type": "code",
        "colab": {}
      },
      "source": [
        "sgd = SGD(lr=0.01,momentum=0.9,nesterov=True)"
      ],
      "execution_count": 0,
      "outputs": []
    },
    {
      "cell_type": "code",
      "metadata": {
        "id": "sAvc9Axj5RLt",
        "colab_type": "code",
        "colab": {}
      },
      "source": [
        "model.compile(loss = 'categorical_crossentropy', optimizer=sgd, metrics=['acc'])"
      ],
      "execution_count": 0,
      "outputs": []
    },
    {
      "cell_type": "code",
      "metadata": {
        "id": "0qlHrRw-5zXN",
        "colab_type": "code",
        "colab": {
          "base_uri": "https://localhost:8080/",
          "height": 783
        },
        "outputId": "6b3c1466-6757-488b-97b9-e5a8f8dec30f"
      },
      "source": [
        "model.fit(x_train,x_train,epochs=20,batch_size=100)\n",
        "score=model.evaluate(x_test,x_test,batch_size=128)"
      ],
      "execution_count": 26,
      "outputs": [
        {
          "output_type": "stream",
          "text": [
            "Epoch 1/20\n",
            "1000/1000 [==============================] - 0s 454us/step - loss: 30.1423 - acc: 0.0400\n",
            "Epoch 2/20\n",
            "1000/1000 [==============================] - 0s 24us/step - loss: 30.0267 - acc: 0.0460\n",
            "Epoch 3/20\n",
            "1000/1000 [==============================] - 0s 25us/step - loss: 30.0171 - acc: 0.0510\n",
            "Epoch 4/20\n",
            "1000/1000 [==============================] - 0s 21us/step - loss: 30.0130 - acc: 0.0460\n",
            "Epoch 5/20\n",
            "1000/1000 [==============================] - 0s 22us/step - loss: 30.0079 - acc: 0.0570\n",
            "Epoch 6/20\n",
            "1000/1000 [==============================] - 0s 22us/step - loss: 30.0056 - acc: 0.0520\n",
            "Epoch 7/20\n",
            "1000/1000 [==============================] - 0s 22us/step - loss: 30.0054 - acc: 0.0670\n",
            "Epoch 8/20\n",
            "1000/1000 [==============================] - 0s 28us/step - loss: 30.0064 - acc: 0.0580\n",
            "Epoch 9/20\n",
            "1000/1000 [==============================] - 0s 27us/step - loss: 30.0077 - acc: 0.0650\n",
            "Epoch 10/20\n",
            "1000/1000 [==============================] - 0s 23us/step - loss: 30.0042 - acc: 0.0620\n",
            "Epoch 11/20\n",
            "1000/1000 [==============================] - 0s 26us/step - loss: 30.0075 - acc: 0.0530\n",
            "Epoch 12/20\n",
            "1000/1000 [==============================] - 0s 23us/step - loss: 30.0032 - acc: 0.0570\n",
            "Epoch 13/20\n",
            "1000/1000 [==============================] - 0s 21us/step - loss: 30.0057 - acc: 0.0550\n",
            "Epoch 14/20\n",
            "1000/1000 [==============================] - 0s 23us/step - loss: 30.0040 - acc: 0.0610\n",
            "Epoch 15/20\n",
            "1000/1000 [==============================] - 0s 22us/step - loss: 30.0036 - acc: 0.0530\n",
            "Epoch 16/20\n",
            "1000/1000 [==============================] - 0s 23us/step - loss: 30.0048 - acc: 0.0610\n",
            "Epoch 17/20\n",
            "1000/1000 [==============================] - 0s 24us/step - loss: 30.0020 - acc: 0.0520\n",
            "Epoch 18/20\n",
            "1000/1000 [==============================] - 0s 23us/step - loss: 30.0025 - acc: 0.0620\n",
            "Epoch 19/20\n",
            "1000/1000 [==============================] - 0s 25us/step - loss: 30.0037 - acc: 0.0600\n",
            "Epoch 20/20\n",
            "1000/1000 [==============================] - 0s 24us/step - loss: 30.0038 - acc: 0.0500\n",
            "100/100 [==============================] - 0s 1ms/step\n"
          ],
          "name": "stdout"
        }
      ]
    },
    {
      "cell_type": "code",
      "metadata": {
        "id": "kZhYWYzr6O2S",
        "colab_type": "code",
        "colab": {
          "base_uri": "https://localhost:8080/",
          "height": 112
        },
        "outputId": "e81956b4-1189-45c3-943f-e1bf3c3e925f"
      },
      "source": [
        "%who"
      ],
      "execution_count": 37,
      "outputs": [
        {
          "output_type": "stream",
          "text": [
            "Activation\t Dense\t Dropout\t SGD\t Sequential\t keras\t model\t model2\t np\t \n",
            "score\t score2\t sgd\t x_test\t x_train\t y_test\t y_train\t \n"
          ],
          "name": "stdout"
        }
      ]
    },
    {
      "cell_type": "code",
      "metadata": {
        "id": "RwlYp8v4749f",
        "colab_type": "code",
        "colab": {}
      },
      "source": [
        ""
      ],
      "execution_count": 0,
      "outputs": []
    },
    {
      "cell_type": "code",
      "metadata": {
        "id": "hmn80HmSQdNC",
        "colab_type": "code",
        "colab": {}
      },
      "source": [
        ""
      ],
      "execution_count": 0,
      "outputs": []
    }
  ]
}