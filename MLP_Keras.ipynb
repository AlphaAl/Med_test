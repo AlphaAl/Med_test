{
  "nbformat": 4,
  "nbformat_minor": 0,
  "metadata": {
    "colab": {
      "name": "MLP_Keras.ipynb",
      "version": "0.3.2",
      "provenance": [],
      "include_colab_link": true
    },
    "kernelspec": {
      "name": "python3",
      "display_name": "Python 3"
    }
  },
  "cells": [
    {
      "cell_type": "markdown",
      "metadata": {
        "id": "view-in-github",
        "colab_type": "text"
      },
      "source": [
        "<a href=\"https://colab.research.google.com/github/AlphaAl/Med_test/blob/master/MLP_Keras.ipynb\" target=\"_parent\"><img src=\"https://colab.research.google.com/assets/colab-badge.svg\" alt=\"Open In Colab\"/></a>"
      ]
    },
    {
      "cell_type": "code",
      "metadata": {
        "id": "1JcbmpkRpbLn",
        "colab_type": "code",
        "colab": {}
      },
      "source": [
        "import keras\n",
        "from keras.models import Sequential\n",
        "from keras.layers import Dense, Dropout, Activation\n",
        "from keras.optimizers import SGD\n",
        "\n",
        "# Generate dummy data\n",
        "import numpy as np\n",
        "x_train = np.random.random((1000, 20))\n",
        "y_train = keras.utils.to_categorical(np.random.randint(10, size=(1000, 1)), num_classes=10)\n",
        "x_test = np.random.random((100, 20))\n",
        "y_test = keras.utils.to_categorical(np.random.randint(10, size=(100, 1)), num_classes=10)\n",
        "\n",
        "model = Sequential()\n",
        "# Dense(64) is a fully-connected layer with 64 hidden units.\n",
        "# in the first layer, you must specify the expected input data shape:\n",
        "# here, 20-dimensional vectors.\n",
        "model.add(Dense(64, activation='relu', input_dim=20))\n",
        "model.add(Dropout(0.5))\n",
        "model.add(Dense(64, activation='relu'))\n",
        "model.add(Dropout(0.5))\n",
        "model.add(Dense(10, activation='softmax'))\n",
        "\n",
        "sgd = SGD(lr=0.01, decay=1e-6, momentum=0.9, nesterov=True)\n",
        "model.compile(loss='categorical_crossentropy',\n",
        "              optimizer=sgd,\n",
        "              metrics=['accuracy'])\n",
        "\n",
        "model.fit(x_train, y_train,\n",
        "          epochs=20,\n",
        "          batch_size=128)\n",
        "score = model.evaluate(x_test, y_test, batch_size=128)"
      ],
      "execution_count": 0,
      "outputs": []
    },
    {
      "cell_type": "code",
      "metadata": {
        "id": "B9KKo7FI2J2T",
        "colab_type": "code",
        "colab": {
          "base_uri": "https://localhost:8080/",
          "height": 76
        },
        "outputId": "08435f5e-3f22-49e8-cd4c-ee3d53863942"
      },
      "source": [
        "import keras\n",
        "from keras.models import Sequential\n",
        "from keras.layers import Dense,Dropout,Activation\n",
        "import numpy as np\n",
        "from keras.optimizers import SGD"
      ],
      "execution_count": 1,
      "outputs": [
        {
          "output_type": "stream",
          "text": [
            "Using TensorFlow backend.\n"
          ],
          "name": "stderr"
        }
      ]
    },
    {
      "cell_type": "code",
      "metadata": {
        "id": "Eh4Pm_SI2tp9",
        "colab_type": "code",
        "colab": {}
      },
      "source": [
        "x_train = np.random.random((1000,20))\n",
        "y_train = keras.utils.to_categorical(np.random.randint(10,size=(1000,1)),num_classes=10)\n",
        "x_test = np.random.random((100,20))\n",
        "y_test = keras.utils.to_categorical(np.random.randint(10,size=(100,1)),num_classes=10)"
      ],
      "execution_count": 0,
      "outputs": []
    },
    {
      "cell_type": "code",
      "metadata": {
        "id": "84tzzKmQ3dUH",
        "colab_type": "code",
        "colab": {
          "base_uri": "https://localhost:8080/",
          "height": 392
        },
        "outputId": "f109918e-b9ab-4305-ddc1-fbbfa5358560"
      },
      "source": [
        "###creating layers\n",
        "model = Sequential()\n",
        "model.add(Dense(64,activation='relu',input_dim = 20))\n",
        "model.add(Dropout(0.5))\n",
        "model.add(Dense(64,activation='relu'))\n",
        "model.add(Dropout(0.5))\n",
        "model.add(Dense(64,activation='relu'))\n",
        "model.add(Dense(10,activation='softmax'))\n",
        "model.summary()"
      ],
      "execution_count": 16,
      "outputs": [
        {
          "output_type": "stream",
          "text": [
            "_________________________________________________________________\n",
            "Layer (type)                 Output Shape              Param #   \n",
            "=================================================================\n",
            "dense_7 (Dense)              (None, 64)                1344      \n",
            "_________________________________________________________________\n",
            "dropout_5 (Dropout)          (None, 64)                0         \n",
            "_________________________________________________________________\n",
            "dense_8 (Dense)              (None, 64)                4160      \n",
            "_________________________________________________________________\n",
            "dropout_6 (Dropout)          (None, 64)                0         \n",
            "_________________________________________________________________\n",
            "dense_9 (Dense)              (None, 64)                4160      \n",
            "_________________________________________________________________\n",
            "dense_10 (Dense)             (None, 10)                650       \n",
            "=================================================================\n",
            "Total params: 10,314\n",
            "Trainable params: 10,314\n",
            "Non-trainable params: 0\n",
            "_________________________________________________________________\n"
          ],
          "name": "stdout"
        }
      ]
    },
    {
      "cell_type": "code",
      "metadata": {
        "id": "09x3zOIJ4F-W",
        "colab_type": "code",
        "colab": {}
      },
      "source": [
        "sgd = SGD(lr=0.01,momentum=0.9,nesterov=True)"
      ],
      "execution_count": 0,
      "outputs": []
    },
    {
      "cell_type": "code",
      "metadata": {
        "id": "sAvc9Axj5RLt",
        "colab_type": "code",
        "colab": {}
      },
      "source": [
        "model.compile(loss = 'categorical_crossentropy', optimizer=sgd, metrics=['acc'])"
      ],
      "execution_count": 0,
      "outputs": []
    },
    {
      "cell_type": "code",
      "metadata": {
        "id": "0qlHrRw-5zXN",
        "colab_type": "code",
        "colab": {
          "base_uri": "https://localhost:8080/",
          "height": 780
        },
        "outputId": "9a7fedc6-f5d5-4243-ecd6-d60ad6f627d4"
      },
      "source": [
        "model.fit(x_train,y_train,epochs=20,batch_size=100)\n",
        "score=model.evaluate(x_test,y_test,batch_size=128)"
      ],
      "execution_count": 19,
      "outputs": [
        {
          "output_type": "stream",
          "text": [
            "Epoch 1/20\n",
            "1000/1000 [==============================] - 0s 324us/step - loss: 2.3335 - acc: 0.0970\n",
            "Epoch 2/20\n",
            "1000/1000 [==============================] - 0s 25us/step - loss: 2.3185 - acc: 0.1080\n",
            "Epoch 3/20\n",
            "1000/1000 [==============================] - 0s 20us/step - loss: 2.3299 - acc: 0.1020\n",
            "Epoch 4/20\n",
            "1000/1000 [==============================] - 0s 22us/step - loss: 2.3153 - acc: 0.0980\n",
            "Epoch 5/20\n",
            "1000/1000 [==============================] - 0s 22us/step - loss: 2.3104 - acc: 0.1020\n",
            "Epoch 6/20\n",
            "1000/1000 [==============================] - 0s 23us/step - loss: 2.3029 - acc: 0.1170\n",
            "Epoch 7/20\n",
            "1000/1000 [==============================] - 0s 24us/step - loss: 2.3116 - acc: 0.0950\n",
            "Epoch 8/20\n",
            "1000/1000 [==============================] - 0s 23us/step - loss: 2.3150 - acc: 0.1120\n",
            "Epoch 9/20\n",
            "1000/1000 [==============================] - 0s 24us/step - loss: 2.3138 - acc: 0.0960\n",
            "Epoch 10/20\n",
            "1000/1000 [==============================] - 0s 25us/step - loss: 2.3101 - acc: 0.1040\n",
            "Epoch 11/20\n",
            "1000/1000 [==============================] - 0s 25us/step - loss: 2.3088 - acc: 0.1150\n",
            "Epoch 12/20\n",
            "1000/1000 [==============================] - 0s 23us/step - loss: 2.3078 - acc: 0.1050\n",
            "Epoch 13/20\n",
            "1000/1000 [==============================] - 0s 23us/step - loss: 2.3059 - acc: 0.1050\n",
            "Epoch 14/20\n",
            "1000/1000 [==============================] - 0s 26us/step - loss: 2.3065 - acc: 0.1000\n",
            "Epoch 15/20\n",
            "1000/1000 [==============================] - 0s 24us/step - loss: 2.3033 - acc: 0.1310\n",
            "Epoch 16/20\n",
            "1000/1000 [==============================] - 0s 25us/step - loss: 2.2979 - acc: 0.1020\n",
            "Epoch 17/20\n",
            "1000/1000 [==============================] - 0s 28us/step - loss: 2.2970 - acc: 0.1130\n",
            "Epoch 18/20\n",
            "1000/1000 [==============================] - 0s 25us/step - loss: 2.2973 - acc: 0.1200\n",
            "Epoch 19/20\n",
            "1000/1000 [==============================] - 0s 22us/step - loss: 2.3041 - acc: 0.1050\n",
            "Epoch 20/20\n",
            "1000/1000 [==============================] - 0s 24us/step - loss: 2.2998 - acc: 0.1180\n",
            "100/100 [==============================] - 0s 854us/step\n"
          ],
          "name": "stdout"
        }
      ]
    },
    {
      "cell_type": "code",
      "metadata": {
        "id": "kZhYWYzr6O2S",
        "colab_type": "code",
        "colab": {}
      },
      "source": [
        ""
      ],
      "execution_count": 0,
      "outputs": []
    }
  ]
}